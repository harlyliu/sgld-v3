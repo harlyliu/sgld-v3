{
 "cells": [
  {
   "cell_type": "code",
   "execution_count": null,
   "id": "39ace3f0-da7c-4342-b62c-d5ce7ab7dd5f",
   "metadata": {},
   "outputs": [],
   "source": [
    "import numpy as np\n",
    "import GP"
   ]
  },
  {
   "cell_type": "code",
   "execution_count": null,
   "id": "d8cdae0f-65f3-4455-aabf-dbdeb9ef2067",
   "metadata": {},
   "outputs": [],
   "source": [
    "grids = GP.generate_grids(d = 2, num_grids = 50, grids_lim = (-1, 1))\n",
    "psi = GP.gp_eigen_funcs_fast(grids, poly_degree = 10, a = 1, b = 1, orth = False)"
   ]
  },
  {
   "cell_type": "code",
   "execution_count": null,
   "id": "a5f540df-d745-41a3-a609-4c76f4427fdc",
   "metadata": {},
   "outputs": [],
   "source": [
    "grids"
   ]
  },
  {
   "cell_type": "code",
   "execution_count": null,
   "id": "51aea6c6-1cb5-491b-9e64-e158fe9762ac",
   "metadata": {},
   "outputs": [],
   "source": [
    "psi"
   ]
  },
  {
   "cell_type": "code",
   "execution_count": null,
   "id": "8231b479-f555-4a37-8a09-7445ed08513c",
   "metadata": {},
   "outputs": [],
   "source": []
  }
 ],
 "metadata": {
  "kernelspec": {
   "display_name": "Python 3 (ipykernel)",
   "language": "python",
   "name": "python3"
  },
  "language_info": {
   "codemirror_mode": {
    "name": "ipython",
    "version": 3
   },
   "file_extension": ".py",
   "mimetype": "text/x-python",
   "name": "python",
   "nbconvert_exporter": "python",
   "pygments_lexer": "ipython3",
   "version": "3.10.11"
  }
 },
 "nbformat": 4,
 "nbformat_minor": 5
}
